{
 "cells": [
  {
   "cell_type": "markdown",
   "metadata": {},
   "source": [
    "# Reload Data"
   ]
  },
  {
   "cell_type": "code",
   "execution_count": 54,
   "metadata": {},
   "outputs": [],
   "source": [
    "import json\n",
    "\n",
    "def saveData(title, data):\n",
    "    with open(title, 'w', encoding='utf-8') as file:\n",
    "        json.dump(data, file, ensure_ascii=False, indent=2)\n",
    "\n",
    "def loadData(title):\n",
    "    with open(title, encoding='utf-8') as file:\n",
    "        return json.load(file)"
   ]
  },
  {
   "cell_type": "code",
   "execution_count": 55,
   "metadata": {},
   "outputs": [],
   "source": [
    "movies = loadData('MovieDatasetScraped.json') # Total 3254 Movies"
   ]
  },
  {
   "cell_type": "markdown",
   "metadata": {},
   "source": [
    "# Data Cleaning"
   ]
  },
  {
   "cell_type": "markdown",
   "metadata": {},
   "source": [
    "### Convert Running Time To Integer"
   ]
  },
  {
   "cell_type": "code",
   "execution_count": 56,
   "metadata": {},
   "outputs": [],
   "source": [
    "def minutesToInteger(runningTime):\n",
    "    if runningTime == \"N/A\":\n",
    "        return None\n",
    "\n",
    "    if isinstance(runningTime, list):\n",
    "        return int(runningTime[0].split(\" \")[0])\n",
    "    else: # is a string\n",
    "        return int(runningTime.split(\" \")[0])\n",
    "\n",
    "for movie in movies:\n",
    "    movie['Running Time (int)'] = minutesToInteger(movie.get('Running time', \"N/A\"))\n"
   ]
  },
  {
   "cell_type": "code",
   "execution_count": 57,
   "metadata": {},
   "outputs": [],
   "source": [
    "# print([movie.get('Running time', 'N/A') for movie in movies])"
   ]
  },
  {
   "cell_type": "code",
   "execution_count": 58,
   "metadata": {},
   "outputs": [],
   "source": [
    "# print([movie.get('Running Time (int)', 'N/A') for movie in movies])"
   ]
  },
  {
   "cell_type": "markdown",
   "metadata": {},
   "source": [
    "### Convert Budget & Box Office To Float"
   ]
  },
  {
   "cell_type": "code",
   "execution_count": 59,
   "metadata": {},
   "outputs": [],
   "source": [
    "import re\n",
    "\n",
    "amounts = r\"thousand|million|billion\"\n",
    "number = r\"\\d+(,\\d{3})*\\.*\\d*\"\n",
    "\n",
    "word_re = rf\"\\${number}(-|\\sto\\s|–)?({number})?\\s({amounts})\"\n",
    "value_re = rf\"\\${number}\"\n",
    "\n",
    "def wordToValue(word):\n",
    "    valueDict = {\"thousand\": 1000, \"million\": 1000000, \"billion\": 1000000000}\n",
    "    return valueDict[word]\n",
    "\n",
    "def parseWordSyntax(string):\n",
    "    valueString = re.search(number, string).group()\n",
    "    value = float(valueString.replace(\",\", \"\"))\n",
    "    word = re.search(amounts, string, flags=re.I).group().lower()\n",
    "    wordValue = wordToValue(word)\n",
    "    return value * wordValue\n",
    "\n",
    "def parseValueSyntax(string):\n",
    "    valueString = re.search(number, string).group()\n",
    "    value = float(valueString.replace(\",\", \"\"))\n",
    "    return value\n",
    "\n",
    "'''\n",
    "moneyConversion(\"$12.2 million\") --> 12200000 ## Word syntax\n",
    "moneyConversion(\"$790,000\") --> 790000        ## Value syntax\n",
    "'''\n",
    "\n",
    "def moneyConversion(money):\n",
    "    if money == \"N/A\":\n",
    "        return None\n",
    "\n",
    "    if isinstance(money, list):\n",
    "        money = money[0]\n",
    "        \n",
    "    wordSyntax = re.search(word_re, money, flags=re.I)\n",
    "    valueSyntax = re.search(value_re, money)\n",
    "\n",
    "    if wordSyntax:\n",
    "        return parseWordSyntax(wordSyntax.group())\n",
    "\n",
    "    elif valueSyntax:\n",
    "        return parseValueSyntax(valueSyntax.group())\n",
    "\n",
    "    else:\n",
    "        return None"
   ]
  },
  {
   "cell_type": "code",
   "execution_count": 60,
   "metadata": {},
   "outputs": [],
   "source": [
    "for movie in movies:\n",
    "    movie['Budget (float)'] = moneyConversion(movie.get('Budget', \"N/A\"))\n",
    "    movie['Box Office (float)'] = moneyConversion(movie.get('Box office', \"N/A\"))"
   ]
  },
  {
   "cell_type": "markdown",
   "metadata": {},
   "source": [
    "### Convert Release Date To Datetime Object"
   ]
  },
  {
   "cell_type": "code",
   "execution_count": 61,
   "metadata": {},
   "outputs": [],
   "source": [
    "from datetime import datetime\n",
    "\n",
    "dates = [movie.get('Release date', 'N/A') for movie in movies]\n",
    "\n",
    "def cleanDate(date):\n",
    "    return date.split(\"(\")[0].strip()\n",
    "\n",
    "def dateConversion(date):\n",
    "    if isinstance(date, list):\n",
    "        date = date[0]\n",
    "        \n",
    "    if date == \"N/A\":\n",
    "        return None\n",
    "        \n",
    "    date_str = cleanDate(date)\n",
    "\n",
    "    fmts = [\"%B %d, %Y\", \"%d %B %Y\"]\n",
    "    for fmt in fmts:\n",
    "        try:\n",
    "            return datetime.strptime(date_str, fmt)\n",
    "        except:\n",
    "            pass\n",
    "    return None\n"
   ]
  },
  {
   "cell_type": "code",
   "execution_count": 62,
   "metadata": {},
   "outputs": [],
   "source": [
    "for movie in movies:\n",
    "    movie['Release Date (datetime)'] = dateConversion(movie.get('Release dates', movie.get('Release date', 'N/A')))\n"
   ]
  },
  {
   "cell_type": "markdown",
   "metadata": {},
   "source": [
    "# Save Data Using Pickle"
   ]
  },
  {
   "cell_type": "code",
   "execution_count": 63,
   "metadata": {},
   "outputs": [],
   "source": [
    "import pickle\n",
    "\n",
    "def saveDataPickle(name, data):\n",
    "    with open(name, 'wb') as f:\n",
    "        pickle.dump(data, f)"
   ]
  },
  {
   "cell_type": "code",
   "execution_count": 64,
   "metadata": {},
   "outputs": [],
   "source": [
    "def loadDataPickle(name):\n",
    "    with open(name, 'rb') as f:\n",
    "        return pickle.load(f)"
   ]
  },
  {
   "cell_type": "code",
   "execution_count": 65,
   "metadata": {},
   "outputs": [],
   "source": [
    "saveDataPickle(\"MovieDatasetCleaned.pickle\", movies)"
   ]
  },
  {
   "cell_type": "markdown",
   "metadata": {},
   "source": [
    "# Save Data as JSON"
   ]
  },
  {
   "cell_type": "code",
   "execution_count": 66,
   "metadata": {},
   "outputs": [],
   "source": [
    "moviesCopy = [movie.copy() for movie in movies]"
   ]
  },
  {
   "cell_type": "code",
   "execution_count": 67,
   "metadata": {},
   "outputs": [],
   "source": [
    "for movie in moviesCopy:\n",
    "    currentDate = movie['Release Date (datetime)']\n",
    "    if currentDate:\n",
    "        movie['Release Date (datetime)'] = currentDate.strftime(\"%B %d, %Y\")\n",
    "    else:\n",
    "        movie['Release Date (datetime)'] = None"
   ]
  },
  {
   "cell_type": "code",
   "execution_count": 68,
   "metadata": {},
   "outputs": [],
   "source": [
    "saveData(\"MovieDatasetCleaned.json\", moviesCopy)"
   ]
  }
 ],
 "metadata": {
  "kernelspec": {
   "display_name": "Python 3",
   "language": "python",
   "name": "python3"
  },
  "language_info": {
   "codemirror_mode": {
    "name": "ipython",
    "version": 3
   },
   "file_extension": ".py",
   "mimetype": "text/x-python",
   "name": "python",
   "nbconvert_exporter": "python",
   "pygments_lexer": "ipython3",
   "version": "3.10.7"
  }
 },
 "nbformat": 4,
 "nbformat_minor": 2
}
