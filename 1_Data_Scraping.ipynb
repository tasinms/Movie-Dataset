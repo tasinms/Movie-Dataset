{
 "cells": [
  {
   "cell_type": "markdown",
   "metadata": {},
   "source": [
    "# Extra Data For All Movies"
   ]
  },
  {
   "cell_type": "code",
   "execution_count": 83,
   "metadata": {},
   "outputs": [],
   "source": [
    "import requests\n",
    "from bs4 import BeautifulSoup as bs"
   ]
  },
  {
   "cell_type": "code",
   "execution_count": 84,
   "metadata": {},
   "outputs": [],
   "source": [
    "# url = 'https://en.wikipedia.org/wiki/List_of_American_films_of_2022'\n",
    "\n",
    "# # Headers To Authenticate Yourself As A User\n",
    "# # headers = {\n",
    "# #     'User-Agent': 'My User Agent 1.0',\n",
    "# #     'From': 'tasinms.bd@gmail.com'\n",
    "# # }\n",
    "\n",
    "# # Load The Page Content\n",
    "# response = requests.get(url)"
   ]
  },
  {
   "cell_type": "code",
   "execution_count": 85,
   "metadata": {},
   "outputs": [],
   "source": [
    "# # Convert To BeautifulSoup Object\n",
    "# soup = bs(response.content)\n",
    "\n",
    "# # Print Out The HTML\n",
    "# contents = soup.prettify()\n",
    "# print(contents)"
   ]
  },
  {
   "cell_type": "code",
   "execution_count": 86,
   "metadata": {},
   "outputs": [],
   "source": [
    "# movies2022 = soup.select('.wikitable.sortable i')\n",
    "# movies2022[4]\n",
    "# movies2022[4].a['href']\n",
    "# movies2022[4].a.getText()"
   ]
  },
  {
   "cell_type": "code",
   "execution_count": 87,
   "metadata": {},
   "outputs": [],
   "source": [
    "# def getContentValue(rowData):\n",
    "#     if rowData.find('li'):\n",
    "#         return [li.getText(' ', strip=True).replace('\\xa0', ' ') for li in rowData.findAll('li')]\n",
    "#     elif rowData.find('a'):\n",
    "#         data = [tag.getText(' ', strip=True) for tag in rowData.findAll('a')]\n",
    "#         if len(data) > 1:\n",
    "#             return data\n",
    "#         else:\n",
    "#             return data[0]\n",
    "#     else:\n",
    "#         return rowData.getText(' ', strip=True).replace('\\xa0', ' ')\n",
    "\n",
    "def getContentValue(rowData):\n",
    "    if rowData.find('li'):\n",
    "        return [li.getText(' ', strip=True).replace('\\xa0', ' ') for li in rowData.findAll('li')]\n",
    "    elif rowData.find('br'):\n",
    "        return rowData.getText(separator='<br>').split('<br>')\n",
    "    else:\n",
    "        return rowData.getText(' ', strip=True).replace('\\xa0', ' ')\n",
    "\n",
    "def cleanTags(soup):\n",
    "    for tag in soup.findAll(['sup', 'span']):\n",
    "        tag.decompose()\n",
    "\n",
    "def getInfoBox(url):\n",
    "\n",
    "    response = requests.get(url)\n",
    "    \n",
    "    # Convert To BeautifulSoup Object\n",
    "    soup = bs(response.content)\n",
    "\n",
    "    infoBox = soup.find(class_='infobox vevent')\n",
    "    infoRows = infoBox.findAll('tr')\n",
    "\n",
    "    cleanTags(soup)\n",
    "\n",
    "    movieInfo = {}\n",
    "    \n",
    "    for index, row in enumerate(infoRows):\n",
    "        if index == 0:\n",
    "            movieInfo['Title'] = row.find('th').getText(' ', strip=True)\n",
    "        # elif index == 1:\n",
    "        #     continue\n",
    "        else:\n",
    "            header = row.find('th')\n",
    "            if header:\n",
    "                key = row.find('th').getText(' ', strip=True).replace('Production company', 'Production companies').replace('Screenplay by', 'Written by')\n",
    "                value = getContentValue(row.find('td'))\n",
    "                movieInfo[key] = value\n",
    "\n",
    "    return movieInfo"
   ]
  },
  {
   "cell_type": "code",
   "execution_count": 88,
   "metadata": {},
   "outputs": [
    {
     "name": "stdout",
     "output_type": "stream",
     "text": [
      "{'Title': 'My Name Is Khan', 'Directed by': 'Karan Johar', 'Written by': 'Shibani Bathija', 'Dialogues by': ['Shibani Bathija', 'Niranjan Iyengar'], 'Produced by': ['Hiroo Yash Johar', 'Gauri Khan'], 'Starring': ['Shah Rukh Khan', 'Kajol'], 'Cinematography': 'Ravi K. Chandran', 'Edited by': 'Deepa Bhatia', 'Music by': 'Shankar–Ehsaan–Loy', 'Production companies': ['Dharma Productions', 'Red Chillies Entertainment', 'Image Nation', 'Star China Media', 'Fox International Productions'], 'Distributed by': ['United States:', 'Fox Searchlight Pictures', 'India:', 'Fox Star Studios', 'China:', 'Huaxia Film Distribution', 'International:', '20th Century Fox'], 'Release dates': ['10 February 2010 ( Dubai )', '12 February 2010 (Worldwide)'], 'Running time': '161 minutes', 'Countries': ['India', 'United States', 'China'], 'Languages': ['English', 'Hindi'], 'Budget': '₹50 crores', 'Box office': '₹223 crores'}\n"
     ]
    }
   ],
   "source": [
    "print(getInfoBox('https://en.wikipedia.org/wiki/My_Name_Is_Khan'))"
   ]
  },
  {
   "cell_type": "code",
   "execution_count": 89,
   "metadata": {},
   "outputs": [
    {
     "name": "stdout",
     "output_type": "stream",
     "text": [
      "{'Title': 'Toy Story 3', 'Directed by': 'Lee Unkrich', 'Written by': 'Michael Arndt', 'Story by': ['John Lasseter', 'Andrew Stanton', 'Lee Unkrich'], 'Produced by': 'Darla K. Anderson', 'Starring': ['Tom Hanks', 'Tim Allen', 'Joan Cusack', 'Don Rickles', 'Wallace Shawn', 'John Ratzenberger', 'Estelle Harris', 'Ned Beatty', 'Michael Keaton', 'Jodi Benson', 'John Morris'], 'Cinematography': ['Jeremy Lasky', 'Kim White'], 'Edited by': 'Ken Schretzmann', 'Music by': 'Randy Newman', 'Production companies': ['Walt Disney Pictures', 'Pixar Animation Studios'], 'Distributed by': ['Walt Disney Studios', 'Motion Pictures'], 'Release dates': ['June 12, 2010 ( Taormina Film Fest )', 'June 18, 2010 (United States)'], 'Running time': '103 minutes', 'Country': 'United States', 'Language': 'English', 'Budget': '$200 million', 'Box office': '$1.067 billion'}\n"
     ]
    }
   ],
   "source": [
    "print(getInfoBox('https://en.wikipedia.org/wiki/Toy_Story_3'))"
   ]
  },
  {
   "cell_type": "code",
   "execution_count": 90,
   "metadata": {},
   "outputs": [],
   "source": [
    "movieInfoList = []\n",
    "\n",
    "def getTableData(url):\n",
    "\n",
    "    # Load The Page Content\n",
    "    response = requests.get(url)\n",
    "\n",
    "    # Convert To BeautifulSoup Object\n",
    "    soup = bs(response.content)\n",
    "\n",
    "    movies = soup.select('.wikitable.sortable i a')\n",
    "\n",
    "    basePath = 'https://en.wikipedia.org'\n",
    "\n",
    "    for index, movie in enumerate(movies):\n",
    "\n",
    "        try:\n",
    "            relativePath = movie['href']\n",
    "            title = movie.getText()\n",
    "            fullPath = basePath + relativePath\n",
    "            movieInfoList.append(getInfoBox(fullPath))\n",
    "            # print(title)\n",
    "            # print(relativePath)\n",
    "            # print()\n",
    "        \n",
    "        except Exception as exception:\n",
    "            print(movie.getText())\n",
    "            print(exception)\n",
    "            print()\n",
    "\n",
    "# url = 'https://en.wikipedia.org/wiki/List_of_American_films_of_2022'\n",
    "# getTableData(url)\n",
    "# print(movieInfoList)\n"
   ]
  },
  {
   "cell_type": "code",
   "execution_count": 91,
   "metadata": {},
   "outputs": [
    {
     "name": "stdout",
     "output_type": "stream",
     "text": [
      "Temple Grandin\n",
      "'NoneType' object has no attribute 'find'\n",
      "\n",
      "You Don't Know Jack\n",
      "'NoneType' object has no attribute 'find'\n",
      "\n",
      "The Special Relationship\n",
      "'NoneType' object has no attribute 'find'\n",
      "\n",
      "Fred: The Movie\n",
      "'NoneType' object has no attribute 'find'\n",
      "\n",
      "Tales from Earthsea\n",
      "'NoneType' object has no attribute 'find'\n",
      "\n",
      "Carlos\n",
      "'NoneType' object has no attribute 'find'\n",
      "\n",
      "Scooby-Doo! Curse of the Lake Monster\n",
      "'NoneType' object has no attribute 'find'\n",
      "\n",
      "The Sunset Limited\n",
      "'NoneType' object has no attribute 'find'\n",
      "\n",
      "Cinema Verite\n",
      "'NoneType' object has no attribute 'find'\n",
      "\n",
      "Too Big to Fail\n",
      "'NoneType' object has no attribute 'find'\n",
      "\n",
      "Phineas and Ferb the Movie: Across the 2nd Dimension\n",
      "'NoneType' object has no attribute 'find'\n",
      "\n",
      "The Secret World of Arrietty\n",
      "'NoneType' object has no attribute 'find'\n",
      "\n",
      "Game Change\n",
      "'NoneType' object has no attribute 'find'\n",
      "\n",
      "Hemingway & Gellhorn\n",
      "'NoneType' object has no attribute 'find'\n",
      "\n",
      "Magical Mystery Tour\n",
      "'NoneType' object has no attribute 'find'\n",
      "\n",
      "The Girl\n",
      "'NoneType' object has no attribute 'find'\n",
      "\n",
      "A Liar's Autobiography\n",
      "'NoneType' object has no attribute 'findAll'\n",
      "\n",
      "Phil Spector\n",
      "'NoneType' object has no attribute 'find'\n",
      "\n",
      "Behind the Candelabra\n",
      "'NoneType' object has no attribute 'find'\n",
      "\n",
      "Clear History\n",
      "'NoneType' object has no attribute 'find'\n",
      "\n",
      "citation needed\n",
      "'NoneType' object has no attribute 'findAll'\n",
      "\n",
      "citation needed\n",
      "'NoneType' object has no attribute 'findAll'\n",
      "\n",
      "Elvis & Nixon\n",
      "('Connection aborted.', ConnectionResetError(10054, 'An existing connection was forcibly closed by the remote host', None, 10054, None))\n",
      "\n",
      "citation needed\n",
      "'NoneType' object has no attribute 'findAll'\n",
      "\n",
      "resulting the closure of theaters\n",
      "'NoneType' object has no attribute 'findAll'\n",
      "\n",
      "COVID-19 pandemic\n",
      "'NoneType' object has no attribute 'findAll'\n",
      "\n",
      "South Park: Post Covid\n",
      "'NoneType' object has no attribute 'findAll'\n",
      "\n",
      "South Park: Post Covid: The Return of Covid\n",
      "'NoneType' object has no attribute 'findAll'\n",
      "\n",
      "South Park The Streaming Wars\n",
      "'NoneType' object has no attribute 'findAll'\n",
      "\n",
      "South Park The Streaming Wars Part 2\n",
      "'NoneType' object has no attribute 'findAll'\n",
      "\n"
     ]
    }
   ],
   "source": [
    "basePathURL = 'https://en.wikipedia.org'\n",
    "\n",
    "years = [str(year) for year in range(2010, 2023)]\n",
    "\n",
    "for year in years:\n",
    "    url = basePathURL + '/wiki/List_of_American_films_of_' + year\n",
    "    getTableData(url)"
   ]
  },
  {
   "cell_type": "code",
   "execution_count": 92,
   "metadata": {},
   "outputs": [
    {
     "name": "stdout",
     "output_type": "stream",
     "text": [
      "3285\n"
     ]
    }
   ],
   "source": [
    "print(len(movieInfoList))"
   ]
  },
  {
   "cell_type": "markdown",
   "metadata": {},
   "source": [
    "# Save Data"
   ]
  },
  {
   "cell_type": "code",
   "execution_count": 93,
   "metadata": {},
   "outputs": [],
   "source": [
    "import json\n",
    "\n",
    "def saveData(title, data):\n",
    "    with open(title, 'w', encoding='utf-8') as file:\n",
    "        json.dump(data, file, ensure_ascii=False, indent=2)"
   ]
  },
  {
   "cell_type": "code",
   "execution_count": 94,
   "metadata": {},
   "outputs": [],
   "source": [
    "saveData('MovieDatasetScrapedNew.json', movieInfoList)"
   ]
  }
 ],
 "metadata": {
  "kernelspec": {
   "display_name": "base",
   "language": "python",
   "name": "python3"
  },
  "language_info": {
   "codemirror_mode": {
    "name": "ipython",
    "version": 3
   },
   "file_extension": ".py",
   "mimetype": "text/x-python",
   "name": "python",
   "nbconvert_exporter": "python",
   "pygments_lexer": "ipython3",
   "version": "3.10.7"
  },
  "orig_nbformat": 4
 },
 "nbformat": 4,
 "nbformat_minor": 2
}
