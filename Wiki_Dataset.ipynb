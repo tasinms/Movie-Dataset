{
 "cells": [
  {
   "cell_type": "markdown",
   "metadata": {},
   "source": [
    "# Extra Data For All 2022 Movies"
   ]
  },
  {
   "cell_type": "code",
   "execution_count": 65,
   "metadata": {},
   "outputs": [],
   "source": [
    "import requests\n",
    "from bs4 import BeautifulSoup as bs"
   ]
  },
  {
   "cell_type": "code",
   "execution_count": 66,
   "metadata": {},
   "outputs": [],
   "source": [
    "# url = 'https://en.wikipedia.org/wiki/List_of_American_films_of_2022'\n",
    "\n",
    "# # Headers To Authenticate Yourself As A User\n",
    "# # headers = {\n",
    "# #     'User-Agent': 'My User Agent 1.0',\n",
    "# #     'From': 'tasinms.bd@gmail.com'\n",
    "# # }\n",
    "\n",
    "# # Load The Page Content\n",
    "# response = requests.get(url)"
   ]
  },
  {
   "cell_type": "code",
   "execution_count": 67,
   "metadata": {},
   "outputs": [],
   "source": [
    "# # Convert To BeautifulSoup Object\n",
    "# soup = bs(response.content)\n",
    "\n",
    "# # Print Out The HTML\n",
    "# contents = soup.prettify()\n",
    "# print(contents)"
   ]
  },
  {
   "cell_type": "code",
   "execution_count": 68,
   "metadata": {},
   "outputs": [],
   "source": [
    "# movies2022 = soup.select('.wikitable.sortable i')\n",
    "# movies2022[4]\n",
    "# movies2022[4].a['href']\n",
    "# movies2022[4].a.getText()"
   ]
  },
  {
   "cell_type": "code",
   "execution_count": 69,
   "metadata": {},
   "outputs": [],
   "source": [
    "def getContentValue(rowData):\n",
    "    if rowData.find('li'):\n",
    "        return [li.getText(' ', strip=True).replace('\\xa0', ' ') for li in rowData.findAll('li')]\n",
    "    else:\n",
    "        return rowData.getText(' ', strip=True).replace('\\xa0', ' ')\n",
    "\n",
    "def cleanTags(soup):\n",
    "    for tag in soup.find_all(['sup', 'span']):\n",
    "        tag.decompose()\n",
    "\n",
    "def getInfoBox(url):\n",
    "\n",
    "    response = requests.get(url)\n",
    "    \n",
    "    # Convert To BeautifulSoup Object\n",
    "    soup = bs(response.content)\n",
    "\n",
    "    infoBox = soup.find(class_='infobox vevent')\n",
    "    infoRows = infoBox.findAll('tr')\n",
    "\n",
    "    cleanTags(soup)\n",
    "\n",
    "    movieInfo = {}\n",
    "    \n",
    "    for index, row in enumerate(infoRows):\n",
    "        if index == 0:\n",
    "            movieInfo['Title'] = row.find('th').getText(' ', strip=True)\n",
    "        elif index == 1:\n",
    "            continue\n",
    "        else:\n",
    "            key = row.find('th').getText(' ', strip=True).replace('Production company', 'Production companies').replace('Screenplay by', 'Written by')\n",
    "            value = getContentValue(row.find('td'))\n",
    "            movieInfo[key] = value\n",
    "\n",
    "    return movieInfo"
   ]
  },
  {
   "cell_type": "code",
   "execution_count": 70,
   "metadata": {},
   "outputs": [],
   "source": [
    "movieInfoList = []\n",
    "\n",
    "def getTableData(url):\n",
    "\n",
    "    # Load The Page Content\n",
    "    response = requests.get(url)\n",
    "\n",
    "    # Convert To BeautifulSoup Object\n",
    "    soup = bs(response.content)\n",
    "\n",
    "    movies = soup.select('.wikitable.sortable i a')\n",
    "\n",
    "    basePath = 'https://en.wikipedia.org'\n",
    "\n",
    "    for index, movie in enumerate(movies):\n",
    "\n",
    "        try:\n",
    "            relativePath = movie['href']\n",
    "            title = movie.getText()\n",
    "            fullPath = basePath + relativePath\n",
    "            movieInfoList.append(getInfoBox(fullPath))\n",
    "            # print(title)\n",
    "            # print(relativePath)\n",
    "            # print()\n",
    "        \n",
    "        except Exception as exception:\n",
    "            print(movie.getText())\n",
    "            print(exception)\n",
    "            print()\n",
    "\n",
    "# url = 'https://en.wikipedia.org/wiki/List_of_American_films_of_2022'\n",
    "# getTableData(url)\n",
    "# print(movieInfoList)\n"
   ]
  },
  {
   "cell_type": "code",
   "execution_count": 71,
   "metadata": {},
   "outputs": [
    {
     "name": "stdout",
     "output_type": "stream",
     "text": [
      "District 13: Ultimatum\n",
      "'NoneType' object has no attribute 'getText'\n",
      "\n",
      "Temple Grandin\n",
      "'NoneType' object has no attribute 'find'\n",
      "\n",
      "My Name Is Khan\n",
      "'NoneType' object has no attribute 'getText'\n",
      "\n",
      "You Don't Know Jack\n",
      "'NoneType' object has no attribute 'find'\n",
      "\n",
      "The 7 Adventures of Sinbad\n",
      "('Connection aborted.', RemoteDisconnected('Remote end closed connection without response'))\n",
      "\n",
      "The Special Relationship\n",
      "'NoneType' object has no attribute 'find'\n",
      "\n",
      "I Am Love\n",
      "'NoneType' object has no attribute 'getText'\n",
      "\n",
      "The Girl Who Played with Fire\n",
      "'NoneType' object has no attribute 'getText'\n",
      "\n",
      "Fred: The Movie\n",
      "'NoneType' object has no attribute 'find'\n",
      "\n",
      "Brotherhood\n",
      "'NoneType' object has no attribute 'getText'\n",
      "\n",
      "Spring Fever\n",
      "'NoneType' object has no attribute 'getText'\n",
      "\n",
      "Salt of this Sea\n",
      "'NoneType' object has no attribute 'getText'\n",
      "\n",
      "Tales from Earthsea\n",
      "'NoneType' object has no attribute 'getText'\n",
      "\n",
      "The Milk of Sorrow\n",
      "'NoneType' object has no attribute 'getText'\n",
      "\n",
      "Carlos\n",
      "'NoneType' object has no attribute 'find'\n",
      "\n",
      "Scooby-Doo! Curse of the Lake Monster\n",
      "'NoneType' object has no attribute 'find'\n",
      "\n",
      "The Girl Who Kicked the Hornets' Nest\n",
      "'NoneType' object has no attribute 'getText'\n",
      "\n",
      "The Illusionist\n",
      "'NoneType' object has no attribute 'getText'\n",
      "\n",
      "The Sunset Limited\n",
      "'NoneType' object has no attribute 'find'\n",
      "\n",
      "Cinema Verite\n",
      "'NoneType' object has no attribute 'find'\n",
      "\n",
      "Departures\n",
      "'NoneType' object has no attribute 'getText'\n",
      "\n",
      "Too Big to Fail\n",
      "'NoneType' object has no attribute 'find'\n",
      "\n",
      "Phineas and Ferb the Movie: Across the 2nd Dimension\n",
      "'NoneType' object has no attribute 'find'\n",
      "\n",
      "Bol\n",
      "'NoneType' object has no attribute 'getText'\n",
      "\n",
      "The Skin I Live In\n",
      "'NoneType' object has no attribute 'getText'\n",
      "\n",
      "The Flowers of War\n",
      "'NoneType' object has no attribute 'getText'\n",
      "\n",
      "Fullmetal Alchemist: The Sacred Star of Milos\n",
      "'NoneType' object has no attribute 'getText'\n",
      "\n",
      "The Secret World of Arrietty\n",
      "'NoneType' object has no attribute 'getText'\n",
      "\n",
      "Game Change\n",
      "'NoneType' object has no attribute 'find'\n",
      "\n",
      "A Royal Affair\n",
      "'NoneType' object has no attribute 'getText'\n",
      "\n",
      "Rust and Bone\n",
      "'NoneType' object has no attribute 'getText'\n",
      "\n",
      "Hemingway & Gellhorn\n",
      "'NoneType' object has no attribute 'find'\n",
      "\n",
      "Unforgivable\n",
      "'NoneType' object has no attribute 'getText'\n",
      "\n",
      "Magical Mystery Tour\n",
      "'NoneType' object has no attribute 'find'\n",
      "\n",
      "The Girl\n",
      "'NoneType' object has no attribute 'find'\n",
      "\n",
      "A Liar's Autobiography\n",
      "'NoneType' object has no attribute 'findAll'\n",
      "\n",
      "North Sea Texas\n",
      "'NoneType' object has no attribute 'getText'\n",
      "\n",
      "Phil Spector\n",
      "'NoneType' object has no attribute 'find'\n",
      "\n",
      "Behind the Candelabra\n",
      "'NoneType' object has no attribute 'find'\n",
      "\n",
      "Clear History\n",
      "'NoneType' object has no attribute 'find'\n",
      "\n",
      "The Hunger Games: Mockingjay – Part 1\n",
      "'NoneType' object has no attribute 'getText'\n",
      "\n",
      "citation needed\n",
      "'NoneType' object has no attribute 'findAll'\n",
      "\n",
      "The Hunger Games: Mockingjay – Part 2\n",
      "'NoneType' object has no attribute 'getText'\n",
      "\n",
      "citation needed\n",
      "'NoneType' object has no attribute 'findAll'\n",
      "\n",
      "The Great Wall\n",
      "'NoneType' object has no attribute 'getText'\n",
      "\n",
      "Rock Dog\n",
      "'NoneType' object has no attribute 'getText'\n",
      "\n",
      "Born in China\n",
      "'NoneType' object has no attribute 'getText'\n",
      "\n",
      "Menashe\n",
      "'NoneType' object has no attribute 'getText'\n",
      "\n",
      "citation needed\n",
      "'NoneType' object has no attribute 'findAll'\n",
      "\n",
      "A Fantastic Woman\n",
      "'NoneType' object has no attribute 'getText'\n",
      "\n",
      "The Mule\n",
      "HTTPSConnectionPool(host='en.wikipedia.org', port=443): Max retries exceeded with url: /wiki/The_Mule_(2018_film) (Caused by SSLError(SSLEOFError(8, 'EOF occurred in violation of protocol (_ssl.c:997)')))\n",
      "\n",
      "Darlin'\n",
      "'NoneType' object has no attribute 'getText'\n",
      "\n",
      "Zombieland: Double Tap\n",
      "('Connection aborted.', RemoteDisconnected('Remote end closed connection without response'))\n",
      "\n",
      "resulting the closure of theaters\n",
      "'NoneType' object has no attribute 'findAll'\n",
      "\n",
      "COVID-19 pandemic\n",
      "'NoneType' object has no attribute 'findAll'\n",
      "\n",
      "Infinite\n",
      "'NoneType' object has no attribute 'getText'\n",
      "\n",
      "South Park: Post Covid\n",
      "'NoneType' object has no attribute 'findAll'\n",
      "\n",
      "South Park: Post Covid: The Return of Covid\n",
      "'NoneType' object has no attribute 'findAll'\n",
      "\n",
      "South Park The Streaming Wars\n",
      "'NoneType' object has no attribute 'findAll'\n",
      "\n",
      "South Park The Streaming Wars Part 2\n",
      "'NoneType' object has no attribute 'findAll'\n",
      "\n"
     ]
    }
   ],
   "source": [
    "basePathURL = 'https://en.wikipedia.org'\n",
    "\n",
    "years = [str(year) for year in range(2010, 2023)]\n",
    "\n",
    "for year in years:\n",
    "    url = basePath + '/wiki/List_of_American_films_of_' + year\n",
    "    getTableData(url)"
   ]
  },
  {
   "cell_type": "markdown",
   "metadata": {},
   "source": [
    "# Save/Reload Data"
   ]
  },
  {
   "cell_type": "code",
   "execution_count": 72,
   "metadata": {},
   "outputs": [],
   "source": [
    "import json\n",
    "\n",
    "def saveData(title, data):\n",
    "    with open(title, 'w', encoding='utf-8') as file:\n",
    "        json.dump(data, file, ensure_ascii=False, indent=2)"
   ]
  },
  {
   "cell_type": "code",
   "execution_count": 73,
   "metadata": {},
   "outputs": [],
   "source": [
    "import json\n",
    "\n",
    "def loadData(title):\n",
    "    with open(title, encoding='utf-8') as file:\n",
    "        return json.load(file)"
   ]
  },
  {
   "cell_type": "code",
   "execution_count": 74,
   "metadata": {},
   "outputs": [],
   "source": [
    "saveData('MovieDataset.json', movieInfoList)"
   ]
  },
  {
   "cell_type": "code",
   "execution_count": 75,
   "metadata": {},
   "outputs": [
    {
     "name": "stdout",
     "output_type": "stream",
     "text": [
      "3251\n"
     ]
    }
   ],
   "source": [
    "print(len(movieInfoList))"
   ]
  },
  {
   "cell_type": "markdown",
   "metadata": {},
   "source": [
    "# Data Cleaning"
   ]
  },
  {
   "cell_type": "code",
   "execution_count": null,
   "metadata": {},
   "outputs": [],
   "source": [
    "movieInfoList = loadData('MovieDataset.json')"
   ]
  },
  {
   "cell_type": "markdown",
   "metadata": {},
   "source": [
    "# Create Dataset"
   ]
  },
  {
   "cell_type": "code",
   "execution_count": null,
   "metadata": {},
   "outputs": [],
   "source": [
    "# movieData = loadData('MovieDataset.json')"
   ]
  },
  {
   "cell_type": "code",
   "execution_count": null,
   "metadata": {},
   "outputs": [],
   "source": [
    "# import pandas as pd\n",
    "\n",
    "# df = pd.DataFrame(movieData)\n",
    "\n",
    "# df.head()"
   ]
  }
 ],
 "metadata": {
  "kernelspec": {
   "display_name": "base",
   "language": "python",
   "name": "python3"
  },
  "language_info": {
   "codemirror_mode": {
    "name": "ipython",
    "version": 3
   },
   "file_extension": ".py",
   "mimetype": "text/x-python",
   "name": "python",
   "nbconvert_exporter": "python",
   "pygments_lexer": "ipython3",
   "version": "3.10.7"
  },
  "orig_nbformat": 4
 },
 "nbformat": 4,
 "nbformat_minor": 2
}
